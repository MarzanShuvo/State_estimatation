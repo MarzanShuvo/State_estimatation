{
 "cells": [
  {
   "cell_type": "markdown",
   "metadata": {},
   "source": [
    "# Extended kalman Filter Solution"
   ]
  },
  {
   "cell_type": "code",
   "execution_count": 96,
   "metadata": {},
   "outputs": [],
   "source": [
    "import numpy as np\n",
    "from math import pi\n",
    "from numpy.linalg import inv"
   ]
  },
  {
   "cell_type": "markdown",
   "metadata": {},
   "source": [
    "# Initialization"
   ]
  },
  {
   "cell_type": "code",
   "execution_count": 97,
   "metadata": {},
   "outputs": [
    {
     "name": "stdout",
     "output_type": "stream",
     "text": [
      "[[0.01 0.  ]\n",
      " [0.   1.  ]]\n"
     ]
    }
   ],
   "source": [
    "F_k = np.array([[1,0.5],[0,1]])\n",
    "G_k = np.array([[0,0.5]]).T\n",
    "L_k = np.eye(2)*.1\n",
    "X_k = np.array([[0,5]]).T\n",
    "P_k = np.array([[0.01,0],[0,1]])\n",
    "U = -2\n",
    "S= 20\n",
    "y1 = (pi/6)\n",
    "D = 40\n",
    "print(P_k)"
   ]
  },
  {
   "cell_type": "markdown",
   "metadata": {},
   "source": [
    "# Prediction"
   ]
  },
  {
   "cell_type": "code",
   "execution_count": 98,
   "metadata": {},
   "outputs": [
    {
     "name": "stdout",
     "output_type": "stream",
     "text": [
      "x_k\n",
      "[[2.5]\n",
      " [4. ]]\n",
      "p_k\n",
      "[[0.36 0.5 ]\n",
      " [0.5  1.1 ]]\n",
      "[[2.5]\n",
      " [4. ]]\n"
     ]
    }
   ],
   "source": [
    "x_k = F_k@X_k + G_k*(-2)\n",
    "print('x_k')\n",
    "print(x_k)\n",
    "p_k = F_k@P_k@(F_k.T)+np.eye(2)@L_k@np.eye(2)\n",
    "print('p_k')\n",
    "print(p_k)\n",
    "print(x_k)"
   ]
  },
  {
   "cell_type": "markdown",
   "metadata": {},
   "source": [
    "# Correction"
   ]
  },
  {
   "cell_type": "code",
   "execution_count": 99,
   "metadata": {},
   "outputs": [
    {
     "name": "stdout",
     "output_type": "stream",
     "text": [
      "[[0.39686426]\n",
      " [0.55120036]]\n"
     ]
    }
   ],
   "source": [
    "H_k_1 =(S/((D-x_k[0])*(D-x_k[0])+S*S))\n",
    "H_k = np.array([[H_k_1[0],0]])\n",
    "k_1 = p_k@(H_k.T)@inv((H_k@p_k@H_k.T)+0.01)\n",
    "print(k_1)"
   ]
  },
  {
   "cell_type": "code",
   "execution_count": 100,
   "metadata": {},
   "outputs": [
    {
     "name": "stdout",
     "output_type": "stream",
     "text": [
      "[[2.69681178]\n",
      " [4.27334969]]\n",
      "[[0.35841804 0.5       ]\n",
      " [0.49694837 1.1       ]]\n"
     ]
    }
   ],
   "source": [
    "F_x = x_k+(k_1@(y1-(H_k@x_k)))\n",
    "print(F_x)\n",
    "F_p = (1-k_1*H_k)*p_k\n",
    "print(F_p)"
   ]
  },
  {
   "cell_type": "code",
   "execution_count": null,
   "metadata": {},
   "outputs": [],
   "source": []
  }
 ],
 "metadata": {
  "kernelspec": {
   "display_name": "Python 3",
   "language": "python",
   "name": "python3"
  },
  "language_info": {
   "codemirror_mode": {
    "name": "ipython",
    "version": 3
   },
   "file_extension": ".py",
   "mimetype": "text/x-python",
   "name": "python",
   "nbconvert_exporter": "python",
   "pygments_lexer": "ipython3",
   "version": "3.5.2"
  }
 },
 "nbformat": 4,
 "nbformat_minor": 2
}
